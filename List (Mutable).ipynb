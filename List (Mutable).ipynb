{
 "cells": [
  {
   "cell_type": "markdown",
   "id": "fc916def",
   "metadata": {},
   "source": [
    "# List"
   ]
  },
  {
   "cell_type": "code",
   "execution_count": 1,
   "id": "2c4e972e",
   "metadata": {
    "scrolled": true
   },
   "outputs": [
    {
     "name": "stdout",
     "output_type": "stream",
     "text": [
      "9\n"
     ]
    }
   ],
   "source": [
    "li=['a','quick','brown','fox','jumps','over','the','lazy','dog']\n",
    "print(len(li))"
   ]
  },
  {
   "cell_type": "code",
   "execution_count": 9,
   "id": "04f791f5",
   "metadata": {},
   "outputs": [],
   "source": [
    "a='a quick brown fox jumps over the lazy dogs'\n",
    "# print(a[0])\n",
    "# x=(list(a))\n",
    "# print(x)\n",
    "# y=(a.split())\n",
    "# print(x)\n",
    "# print(y)\n",
    "# print(x[14])\n",
    "# print(y[4])\n",
    "# y[8]='lion'\n",
    "# x[14]='j'\n",
    "# print(x)\n",
    "# print(''.join(x))\n",
    "# print(y)\n",
    "# # print(''.join(y))\n",
    "# # print(str(y))\n",
    "# # print(''.join(y))\n",
    "# z=y.split()\n",
    "# print(y)\n",
    "# print(a.replace('dogs','lion'))\n"
   ]
  },
  {
   "cell_type": "code",
   "execution_count": 7,
   "id": "98c09ba2",
   "metadata": {},
   "outputs": [
    {
     "name": "stdout",
     "output_type": "stream",
     "text": [
      "a quick brown fox jumps over the lazy lion\n",
      "a quick brown fox jumps over the lazy dogs\n"
     ]
    }
   ],
   "source": [
    "a=['a quick brown fox jumps over the lazy dogs']\n",
    "b=(a[0])\n",
    "print(b.replace('dogs','lion'))\n",
    "print(a[0])"
   ]
  },
  {
   "cell_type": "code",
   "execution_count": 33,
   "id": "3ba2b2ab",
   "metadata": {},
   "outputs": [
    {
     "name": "stdout",
     "output_type": "stream",
     "text": [
      "['a', 'quick', 'brown', 'fox', 'jumps', 'over', 'the', 'lazy', 'lion']\n"
     ]
    }
   ],
   "source": [
    "a=['a', 'quick', 'brown', 'fox', 'jumps', 'over', 'the', 'lazy', 'dogs']\n",
    "a[8]='lion'\n",
    "print(a)"
   ]
  },
  {
   "cell_type": "code",
   "execution_count": 38,
   "id": "f6f83be0",
   "metadata": {},
   "outputs": [
    {
     "name": "stdout",
     "output_type": "stream",
     "text": [
      "('a', 'quick', 'brown', 'fox', 'jumps', 'over', 'the', 'lazy', 'lion')\n"
     ]
    }
   ],
   "source": [
    "a=('a', 'quick', 'brown', 'fox', 'jumps', 'over', 'the', 'lazy', 'dogs')\n",
    "b=list(a)\n",
    "b[8]='lion'\n",
    "print(tuple(b))"
   ]
  },
  {
   "cell_type": "code",
   "execution_count": 2,
   "id": "a298d9a0",
   "metadata": {},
   "outputs": [
    {
     "name": "stdout",
     "output_type": "stream",
     "text": [
      "['a', 'jaldi', 'brown', 'fox', 'jumps', 'over', 'the', 'lazy', 'dog']\n"
     ]
    }
   ],
   "source": [
    "# mutability of list\n",
    "li[1]='jaldi'\n",
    "print(li)"
   ]
  },
  {
   "cell_type": "code",
   "execution_count": 29,
   "id": "2246e6df",
   "metadata": {},
   "outputs": [
    {
     "name": "stdout",
     "output_type": "stream",
     "text": [
      "[]\n"
     ]
    }
   ],
   "source": [
    "li=['a','quick','brown','fox','jumps','over','the','lazy','dog']\n",
    "# print(len(li))\n",
    "# print(li[5])\n",
    "# print(li[7])\n",
    "# print(li[0:4])\n",
    "# print(li[:21])\n",
    "# print(li[0:41])\n",
    "# print(li[0:])\n",
    "# print(li[100])\n",
    "# print(li[0:100])\n",
    "# print(li[0:42:2])\n",
    "# print(li[0:42:10])\n",
    "# print(li[0:42:100])\n",
    "# print(li[::])\n",
    "# print(li[0:41:1])\n",
    "# print(li[::1])\n",
    "# print(li[::2])\n",
    "# print(li[::50])\n",
    "# print(li[19:5])\n"
   ]
  },
  {
   "cell_type": "code",
   "execution_count": 39,
   "id": "1afb8fee",
   "metadata": {},
   "outputs": [
    {
     "name": "stdout",
     "output_type": "stream",
     "text": [
      "['dog', 'fox']\n"
     ]
    }
   ],
   "source": [
    "li=['a','quick','brown','fox','jumps','over','the','lazy','dog']\n",
    "# print(li[19:-5])\n",
    "# print(li[-3])\n",
    "# print(li[-3:])\n",
    "# print(li[0:-3])\n",
    "# print(li[-3:-2])\n",
    "# print(li[-27:-24])\n",
    "# print(li[-3:-11])\n",
    "# print(li[14:17])\n",
    "# print(li[::-1])\n",
    "# print(li[::-5])"
   ]
  },
  {
   "cell_type": "code",
   "execution_count": 1,
   "id": "8986fc89",
   "metadata": {},
   "outputs": [
    {
     "name": "stdout",
     "output_type": "stream",
     "text": [
      "['a', 'quick', 'brown', 'fox', 'jumps', 'over', 'the', 'lazy', 'dog', 'a', 'quick', 'brown', 'fox', 'jumps', 'over', 'the', 'lazy', 'dog']\n"
     ]
    }
   ],
   "source": [
    "li=['a','quick','brown','fox','jumps','over','the','lazy','dog']\n",
    "l1=['a','quick','brown','fox','jumps','over','the','lazy','dog']\n",
    "print(li+l1)"
   ]
  },
  {
   "cell_type": "markdown",
   "id": "a807d94e",
   "metadata": {},
   "source": [
    "## List Functions"
   ]
  },
  {
   "cell_type": "code",
   "execution_count": 29,
   "id": "78e70579",
   "metadata": {},
   "outputs": [
    {
     "name": "stdout",
     "output_type": "stream",
     "text": [
      "7\n"
     ]
    }
   ],
   "source": [
    "l=[1,2,3,[4,5,6],7,8,9]\n",
    "print(len(l))"
   ]
  },
  {
   "cell_type": "code",
   "execution_count": 27,
   "id": "ced7ba43",
   "metadata": {},
   "outputs": [
    {
     "name": "stdout",
     "output_type": "stream",
     "text": [
      "1\n"
     ]
    }
   ],
   "source": [
    "l1=[[1,2,3,[4,5,6],7,8,9]]\n",
    "print(len(l1))"
   ]
  },
  {
   "cell_type": "code",
   "execution_count": 46,
   "id": "c8b5f283",
   "metadata": {},
   "outputs": [
    {
     "name": "stdout",
     "output_type": "stream",
     "text": [
      "a quick brown fox jumps over the lazy dog\n",
      "41\n"
     ]
    }
   ],
   "source": [
    "# typecasting into list\n",
    "mystr='a quick brown fox jumps over the lazy dog'\n",
    "# print(len(mystr))\n",
    "# print(list(mystr))\n",
    "# a=(list(mystr))\n",
    "# print(a)\n",
    "# print(''.join(a))\n",
    "# print(len(list(mystr)))"
   ]
  },
  {
   "cell_type": "code",
   "execution_count": 17,
   "id": "38552893",
   "metadata": {},
   "outputs": [
    {
     "name": "stdout",
     "output_type": "stream",
     "text": [
      "[1, 2, (3, 4), 5]\n"
     ]
    }
   ],
   "source": [
    "tup=((1),2,(3,4),5)\n",
    "# print(len(tup))\n",
    "# print(list(tup))\n",
    "# print(len(list(tup)))\n",
    "# print(tup[2])\n",
    "# print(list(tup[2]))\n",
    "# print(list(tup[0:4]))\n",
    "# x=(list(tup[0:4]))\n",
    "# print(list(x[0:4]))"
   ]
  },
  {
   "cell_type": "code",
   "execution_count": 9,
   "id": "f6651bed",
   "metadata": {},
   "outputs": [
    {
     "name": "stdout",
     "output_type": "stream",
     "text": [
      "3\n"
     ]
    }
   ],
   "source": [
    "# index\n",
    "li=['a','quick','brown','fox','jumps','over','the','lazy','dog']\n",
    "print(li.index('fox'))"
   ]
  },
  {
   "cell_type": "code",
   "execution_count": 123,
   "id": "a86dc2c6",
   "metadata": {},
   "outputs": [
    {
     "name": "stdout",
     "output_type": "stream",
     "text": [
      "['a', 'quick', 'brown', 'fox', 'jumps', 'over', 'the', 'lazy', 'dog', 'luxary', 'house']\n"
     ]
    }
   ],
   "source": [
    "# append\n",
    "li=['a','quick','brown','fox','jumps','over','the','lazy','dog']\n",
    "li.append('luxary')\n",
    "li.append('house')\n",
    "print(li)"
   ]
  },
  {
   "cell_type": "code",
   "execution_count": 130,
   "id": "4423a428",
   "metadata": {},
   "outputs": [
    {
     "name": "stdout",
     "output_type": "stream",
     "text": [
      "1\n",
      "[[1, 2, 3, [4, 5, 6], 7, 8, 9], 10, 14]\n",
      "3\n"
     ]
    }
   ],
   "source": [
    "l1=[[1,2,3,[4,5,6],7,8,9]]\n",
    "print(len(l1))\n",
    "l1.append(10)\n",
    "l1.append(14)\n",
    "print(l1)\n",
    "print(len(l1))"
   ]
  },
  {
   "cell_type": "code",
   "execution_count": 131,
   "id": "b87801a9",
   "metadata": {},
   "outputs": [
    {
     "name": "stdout",
     "output_type": "stream",
     "text": [
      "[[1, 2, 3, [4, 5, 6], 7, 8, 9], 10, 14, [11, 12, 13]]\n",
      "4\n"
     ]
    }
   ],
   "source": [
    "l1.append([11,12,13])\n",
    "print(l1)\n",
    "print(len(l1))"
   ]
  },
  {
   "cell_type": "code",
   "execution_count": 132,
   "id": "4afc0818",
   "metadata": {},
   "outputs": [
    {
     "name": "stdout",
     "output_type": "stream",
     "text": [
      "[[1, 2, 3, [4, 5, 6], 7, 8, 9], 10, 14, [11, 12, 13], 14]\n"
     ]
    }
   ],
   "source": [
    "l1.extend([14])\n",
    "print(l1)"
   ]
  },
  {
   "cell_type": "code",
   "execution_count": 57,
   "id": "92702f25",
   "metadata": {},
   "outputs": [
    {
     "name": "stdout",
     "output_type": "stream",
     "text": [
      "[1, 2, 4, 5, [6, 7, 8, 9], 10, 11]\n",
      "[1, 2, 4, 5, [6, 7, 8, 9], 10, 11, [12, 14, 15, 16]]\n",
      "[1, 2, 4, 5, [6, 7, 8, 9], 10, 11, [12, 14, 15, 16], 17, 18, 19, 20]\n"
     ]
    }
   ],
   "source": [
    "l=[1,2,4,5,[6,7,8,9],10,11]\n",
    "print(l)\n",
    "l.append([12,14,15,16])\n",
    "print(l)\n",
    "l.extend([17,18,19,20])\n",
    "print(l)"
   ]
  },
  {
   "cell_type": "code",
   "execution_count": 1,
   "id": "f9ee5c41",
   "metadata": {},
   "outputs": [
    {
     "data": {
      "text/plain": [
       "[1, 2, 3, 4, [8]]"
      ]
     },
     "execution_count": 1,
     "metadata": {},
     "output_type": "execute_result"
    }
   ],
   "source": [
    "a=[1,2,3,4]\n",
    "a.append([8])\n",
    "a"
   ]
  },
  {
   "cell_type": "code",
   "execution_count": 6,
   "id": "da88132c",
   "metadata": {},
   "outputs": [
    {
     "data": {
      "text/plain": [
       "[1, 2, 3, 4, 8, 12]"
      ]
     },
     "execution_count": 6,
     "metadata": {},
     "output_type": "execute_result"
    }
   ],
   "source": [
    "a=[1,2,3,4]\n",
    "a.extend((8,12))\n",
    "a"
   ]
  },
  {
   "cell_type": "code",
   "execution_count": 133,
   "id": "0c584192",
   "metadata": {},
   "outputs": [
    {
     "name": "stdout",
     "output_type": "stream",
     "text": [
      "[[1, 2, 3, [4, 5, 6], 7, 8, 9], 10, 14, [11, 12, 13], 14, 15, 16, 17]\n"
     ]
    }
   ],
   "source": [
    "# extend\n",
    "l1.extend([15,16,17])\n",
    "print(l1)\n",
    "# print(len(l1))"
   ]
  },
  {
   "cell_type": "code",
   "execution_count": 125,
   "id": "9b1614c1",
   "metadata": {},
   "outputs": [
    {
     "name": "stdout",
     "output_type": "stream",
     "text": [
      "['a', 'quick', 'brown', 'fox', 'jumps', 'over', 'the', 'lazy', 'dog', 'luxary', 'house']\n"
     ]
    }
   ],
   "source": [
    "print(li)"
   ]
  },
  {
   "cell_type": "code",
   "execution_count": 126,
   "id": "bfd76408",
   "metadata": {},
   "outputs": [
    {
     "name": "stdout",
     "output_type": "stream",
     "text": [
      "['a', 'quick', 'brown', 'fox', 'jumps', 'over', 'the', 'lazy', 'dog', 'luxary', 'house', 'in']\n"
     ]
    }
   ],
   "source": [
    "li.extend(['in'])\n",
    "print(li)"
   ]
  },
  {
   "cell_type": "code",
   "execution_count": 127,
   "id": "5e0959e4",
   "metadata": {},
   "outputs": [
    {
     "name": "stdout",
     "output_type": "stream",
     "text": [
      "['a', 'quick', 'brown', 'fox', 'jumps', 'over', 'the', 'lazy', 'dog', 'luxary', 'house', 'in', 'the', 'evening']\n"
     ]
    }
   ],
   "source": [
    "li.extend(['the','evening'])\n",
    "print(li)"
   ]
  },
  {
   "cell_type": "code",
   "execution_count": 128,
   "id": "d946cd26",
   "metadata": {},
   "outputs": [
    {
     "name": "stdout",
     "output_type": "stream",
     "text": [
      "['a', 'quick', 'brown', 'fox', 'jumps', 'over', 'the', 'lazy', 'dog', 'luxary', 'house', 'in', 'the', 'evening', 'i', 'n']\n"
     ]
    }
   ],
   "source": [
    "li.extend('in')\n",
    "print(li)"
   ]
  },
  {
   "cell_type": "code",
   "execution_count": 129,
   "id": "241a6620",
   "metadata": {},
   "outputs": [
    {
     "name": "stdout",
     "output_type": "stream",
     "text": [
      "['a', 'quick', 'brown', 'fox', 'jumps', 'over', 'the', 'lazy', 'labra', 'dog', 'luxary', 'house', 'in', 'the', 'evening', 'i', 'n']\n"
     ]
    }
   ],
   "source": [
    "# # insert \n",
    "li.insert(8,'labra')\n",
    "print(li)"
   ]
  },
  {
   "cell_type": "code",
   "execution_count": 58,
   "id": "4e5079c4",
   "metadata": {},
   "outputs": [],
   "source": [
    "l2=[10,30,50,70,90]"
   ]
  },
  {
   "cell_type": "code",
   "execution_count": 61,
   "id": "ffb596a1",
   "metadata": {},
   "outputs": [
    {
     "name": "stdout",
     "output_type": "stream",
     "text": [
      "[10, 30, 50, 55, 55, 70, 90]\n"
     ]
    }
   ],
   "source": [
    "l2.insert(3,55)\n",
    "print(l2)"
   ]
  },
  {
   "cell_type": "code",
   "execution_count": 53,
   "id": "227f21b1",
   "metadata": {},
   "outputs": [
    {
     "name": "stdout",
     "output_type": "stream",
     "text": [
      "[0, 10, 30, 50, 55, 70, 90]\n"
     ]
    }
   ],
   "source": [
    "l2.insert(-100,0)\n",
    "print(l2)"
   ]
  },
  {
   "cell_type": "code",
   "execution_count": 54,
   "id": "8abec48c",
   "metadata": {},
   "outputs": [
    {
     "name": "stdout",
     "output_type": "stream",
     "text": [
      "[0, 10, 30, 50, 55, 70, 90, 100]\n"
     ]
    }
   ],
   "source": [
    "l2.insert(100,100)\n",
    "print(l2)"
   ]
  },
  {
   "cell_type": "code",
   "execution_count": 55,
   "id": "3673a200",
   "metadata": {},
   "outputs": [
    {
     "name": "stdout",
     "output_type": "stream",
     "text": [
      "['a', 'quick', 'brown', 'fox', 'jumps', 'over', 'the', 'lazy', 'dog', 'in', 'the', 'in']\n"
     ]
    }
   ],
   "source": [
    "print(li)"
   ]
  },
  {
   "cell_type": "code",
   "execution_count": 56,
   "id": "bcde6262",
   "metadata": {},
   "outputs": [
    {
     "name": "stdout",
     "output_type": "stream",
     "text": [
      "dog\n"
     ]
    }
   ],
   "source": [
    "print(li.pop(8))"
   ]
  },
  {
   "cell_type": "code",
   "execution_count": 57,
   "id": "60a9affe",
   "metadata": {},
   "outputs": [
    {
     "name": "stdout",
     "output_type": "stream",
     "text": [
      "['a', 'quick', 'brown', 'fox', 'jumps', 'over', 'the', 'lazy', 'in', 'the', 'in']\n"
     ]
    }
   ],
   "source": [
    "print(li)"
   ]
  },
  {
   "cell_type": "code",
   "execution_count": 58,
   "id": "389db07c",
   "metadata": {},
   "outputs": [
    {
     "name": "stdout",
     "output_type": "stream",
     "text": [
      "in\n"
     ]
    }
   ],
   "source": [
    "print(li.pop())"
   ]
  },
  {
   "cell_type": "code",
   "execution_count": 62,
   "id": "92e9145c",
   "metadata": {},
   "outputs": [
    {
     "name": "stdout",
     "output_type": "stream",
     "text": [
      "['a', 'quick', 'brown', 'fox', 'jumps', 'over', 'the', 'lazy', 'dog']\n"
     ]
    }
   ],
   "source": [
    "print(li)"
   ]
  },
  {
   "cell_type": "code",
   "execution_count": 72,
   "id": "3868bf05",
   "metadata": {},
   "outputs": [
    {
     "name": "stdout",
     "output_type": "stream",
     "text": [
      "2\n",
      "8\n",
      "brown\n",
      "fox\n",
      "jumps\n",
      "over\n",
      "the\n",
      "lazy\n",
      "in\n"
     ]
    }
   ],
   "source": [
    "a=['a', 'quick', 'brown', 'fox', 'jumps', 'over', 'the', 'lazy', 'in', 'the']\n",
    "print(a.index('brown'))\n",
    "print(a.index('in'))\n",
    "for i in range(2,9):\n",
    "    print(a.pop(2))"
   ]
  },
  {
   "cell_type": "code",
   "execution_count": 69,
   "id": "6c126631",
   "metadata": {},
   "outputs": [
    {
     "name": "stdout",
     "output_type": "stream",
     "text": [
      "['a', 'quick', 'the']\n"
     ]
    }
   ],
   "source": [
    "print(a)"
   ]
  },
  {
   "cell_type": "code",
   "execution_count": 33,
   "id": "05b46267",
   "metadata": {},
   "outputs": [
    {
     "name": "stdout",
     "output_type": "stream",
     "text": [
      "[0, 10, 30, 50, 55, 70, 90, 100]\n"
     ]
    }
   ],
   "source": [
    "print(l2)"
   ]
  },
  {
   "cell_type": "code",
   "execution_count": 34,
   "id": "759c516b",
   "metadata": {},
   "outputs": [
    {
     "name": "stdout",
     "output_type": "stream",
     "text": [
      "0\n"
     ]
    }
   ],
   "source": [
    "#pop\n",
    "print(l2.pop(0))\n"
   ]
  },
  {
   "cell_type": "code",
   "execution_count": 35,
   "id": "0cc36d3c",
   "metadata": {},
   "outputs": [
    {
     "name": "stdout",
     "output_type": "stream",
     "text": [
      "[10, 30, 50, 55, 70, 90, 100]\n"
     ]
    }
   ],
   "source": [
    "print(l2)"
   ]
  },
  {
   "cell_type": "code",
   "execution_count": 36,
   "id": "af817c90",
   "metadata": {},
   "outputs": [
    {
     "name": "stdout",
     "output_type": "stream",
     "text": [
      "100\n",
      "[10, 30, 50, 55, 70, 90]\n"
     ]
    }
   ],
   "source": [
    "print(l2.pop())\n",
    "print(l2)"
   ]
  },
  {
   "cell_type": "code",
   "execution_count": 37,
   "id": "4d2adbf0",
   "metadata": {},
   "outputs": [
    {
     "name": "stdout",
     "output_type": "stream",
     "text": [
      "['a', 'quick', 'brown', 'fox', 'jumps', 'over', 'the', 'lazy', 'dog', 'house', 'in', 'the']\n"
     ]
    }
   ],
   "source": [
    "print(li)"
   ]
  },
  {
   "cell_type": "code",
   "execution_count": 62,
   "id": "f0aeef7f",
   "metadata": {},
   "outputs": [
    {
     "name": "stdout",
     "output_type": "stream",
     "text": [
      "['a', 'quick', 'fox', 'jumps', 'over', 'the', 'lazy', 'in', 'the']\n"
     ]
    }
   ],
   "source": [
    "# remove\n",
    "print(li)"
   ]
  },
  {
   "cell_type": "code",
   "execution_count": 63,
   "id": "d8efa2ae",
   "metadata": {},
   "outputs": [],
   "source": [
    "li.remove('fox')"
   ]
  },
  {
   "cell_type": "code",
   "execution_count": 64,
   "id": "7aeedfa6",
   "metadata": {},
   "outputs": [
    {
     "name": "stdout",
     "output_type": "stream",
     "text": [
      "['a', 'quick', 'jumps', 'over', 'the', 'lazy', 'in', 'the']\n"
     ]
    }
   ],
   "source": [
    "print(li)"
   ]
  },
  {
   "cell_type": "code",
   "execution_count": 4,
   "id": "5b61c481",
   "metadata": {},
   "outputs": [
    {
     "name": "stdout",
     "output_type": "stream",
     "text": [
      "['a', 'quick', 'brown', 'jumps', 'over', 'the', 'lazy', 'dogs', 'fox']\n"
     ]
    }
   ],
   "source": [
    "a=['a', 'quick','brown', 'fox', 'jumps', 'over', 'the', 'lazy', 'dogs','fox']\n",
    "a.remove('fox')\n",
    "print(a)"
   ]
  },
  {
   "cell_type": "code",
   "execution_count": 28,
   "id": "6a250b7a",
   "metadata": {},
   "outputs": [
    {
     "name": "stdout",
     "output_type": "stream",
     "text": [
      "['a', 'b', 'a']\n"
     ]
    }
   ],
   "source": [
    "L=['a','a','b','a']\n",
    "(L.remove('a'))\n",
    "print(L)"
   ]
  },
  {
   "cell_type": "code",
   "execution_count": 91,
   "id": "49aa461c",
   "metadata": {},
   "outputs": [
    {
     "data": {
      "text/plain": [
       "[10, 30, 50, 70, 90]"
      ]
     },
     "execution_count": 91,
     "metadata": {},
     "output_type": "execute_result"
    }
   ],
   "source": [
    "l2"
   ]
  },
  {
   "cell_type": "code",
   "execution_count": 92,
   "id": "0a1b3707",
   "metadata": {},
   "outputs": [],
   "source": [
    "l2.remove(50)"
   ]
  },
  {
   "cell_type": "code",
   "execution_count": 93,
   "id": "39c14b81",
   "metadata": {},
   "outputs": [
    {
     "name": "stdout",
     "output_type": "stream",
     "text": [
      "[10, 30, 70, 90]\n"
     ]
    }
   ],
   "source": [
    "print(l2)"
   ]
  },
  {
   "cell_type": "code",
   "execution_count": 88,
   "id": "17d4f1ec",
   "metadata": {},
   "outputs": [
    {
     "name": "stdout",
     "output_type": "stream",
     "text": [
      "2\n",
      "[1, 4, 5]\n"
     ]
    }
   ],
   "source": [
    "a=[1,2,4,5]\n",
    "b=a.pop(1)\n",
    "print(b)\n",
    "print(a)"
   ]
  },
  {
   "cell_type": "code",
   "execution_count": 90,
   "id": "68997d92",
   "metadata": {},
   "outputs": [
    {
     "name": "stdout",
     "output_type": "stream",
     "text": [
      "[1, 4, 5]\n"
     ]
    }
   ],
   "source": [
    "a=[1,2,4,5]\n",
    "b=a.remove(2)\n",
    "print(a)"
   ]
  },
  {
   "cell_type": "code",
   "execution_count": 30,
   "id": "83b66611",
   "metadata": {},
   "outputs": [
    {
     "name": "stdout",
     "output_type": "stream",
     "text": [
      "['quick', 'brown', 'fox', 'jumps', 'over', 'the', 'lazy', 'dog', 'in', 'the']\n"
     ]
    }
   ],
   "source": [
    "a=['a', 'quick', 'brown', 'fox', 'jumps', 'over', 'the', 'lazy', 'dog', 'in', 'the']\n",
    "a.remove('a')\n",
    "print(a)"
   ]
  },
  {
   "cell_type": "code",
   "execution_count": 45,
   "id": "2a18c0e7",
   "metadata": {},
   "outputs": [
    {
     "name": "stdout",
     "output_type": "stream",
     "text": [
      "['a', 'quick', 'brown', 'fox', 'jumps', 'over', 'the', 'lazy', 'dog', 'in', 'the']\n"
     ]
    }
   ],
   "source": [
    "print(li)"
   ]
  },
  {
   "cell_type": "code",
   "execution_count": 46,
   "id": "a6994579",
   "metadata": {},
   "outputs": [],
   "source": [
    "# delete\n",
    "del li[9]"
   ]
  },
  {
   "cell_type": "code",
   "execution_count": 47,
   "id": "ef7c5560",
   "metadata": {},
   "outputs": [
    {
     "name": "stdout",
     "output_type": "stream",
     "text": [
      "['a', 'quick', 'brown', 'fox', 'jumps', 'over', 'the', 'lazy', 'dog', 'the']\n"
     ]
    }
   ],
   "source": [
    "print(li)"
   ]
  },
  {
   "cell_type": "code",
   "execution_count": 48,
   "id": "6eb029b2",
   "metadata": {},
   "outputs": [],
   "source": [
    "L=[1,2,3,4,5]\n",
    "del L"
   ]
  },
  {
   "cell_type": "code",
   "execution_count": 49,
   "id": "aa218fb3",
   "metadata": {},
   "outputs": [
    {
     "ename": "NameError",
     "evalue": "name 'L' is not defined",
     "output_type": "error",
     "traceback": [
      "\u001b[1;31m---------------------------------------------------------------------------\u001b[0m",
      "\u001b[1;31mNameError\u001b[0m                                 Traceback (most recent call last)",
      "\u001b[1;32m<ipython-input-49-70501d4a5d78>\u001b[0m in \u001b[0;36m<module>\u001b[1;34m\u001b[0m\n\u001b[1;32m----> 1\u001b[1;33m \u001b[0mprint\u001b[0m\u001b[1;33m(\u001b[0m\u001b[0mL\u001b[0m\u001b[1;33m)\u001b[0m\u001b[1;33m\u001b[0m\u001b[1;33m\u001b[0m\u001b[0m\n\u001b[0m",
      "\u001b[1;31mNameError\u001b[0m: name 'L' is not defined"
     ]
    }
   ],
   "source": [
    "print(L)"
   ]
  },
  {
   "cell_type": "code",
   "execution_count": 50,
   "id": "6a350fe5",
   "metadata": {},
   "outputs": [
    {
     "name": "stdout",
     "output_type": "stream",
     "text": [
      "['a', 'quick', 'brown', 'fox', 'jumps', 'over', 'the', 'lazy', 'dog', 'the']\n"
     ]
    }
   ],
   "source": [
    "print(li)"
   ]
  },
  {
   "cell_type": "code",
   "execution_count": 51,
   "id": "58acf1c7",
   "metadata": {},
   "outputs": [],
   "source": [
    "#count\n",
    "L=[1,1,1,1,2,2,2,2,2,'Deepanshu','Deepanshu','Deepanshu','Deepanshu','Deepanshu','Deepanshu','Deepanshu','Deepanshu','Deepansu', ]"
   ]
  },
  {
   "cell_type": "code",
   "execution_count": 52,
   "id": "8830f11d",
   "metadata": {},
   "outputs": [
    {
     "data": {
      "text/plain": [
       "8"
      ]
     },
     "execution_count": 52,
     "metadata": {},
     "output_type": "execute_result"
    }
   ],
   "source": [
    "L.count('Deepanshu')"
   ]
  },
  {
   "cell_type": "code",
   "execution_count": 53,
   "id": "7e6dff66",
   "metadata": {},
   "outputs": [
    {
     "data": {
      "text/plain": [
       "0"
      ]
     },
     "execution_count": 53,
     "metadata": {},
     "output_type": "execute_result"
    }
   ],
   "source": [
    "L.count('ee')"
   ]
  },
  {
   "cell_type": "code",
   "execution_count": 67,
   "id": "3c799b67",
   "metadata": {},
   "outputs": [
    {
     "name": "stdout",
     "output_type": "stream",
     "text": [
      "['a', 'quick', 'jumps', 'over', 'the', 'lazy', 'in', 'the']\n"
     ]
    }
   ],
   "source": [
    "print(li)"
   ]
  },
  {
   "cell_type": "code",
   "execution_count": 68,
   "id": "69560136",
   "metadata": {},
   "outputs": [],
   "source": [
    "l=li"
   ]
  },
  {
   "cell_type": "code",
   "execution_count": 69,
   "id": "7320aabd",
   "metadata": {},
   "outputs": [
    {
     "name": "stdout",
     "output_type": "stream",
     "text": [
      "['a', 'quick', 'jumps', 'over', 'the', 'lazy', 'in', 'the']\n"
     ]
    }
   ],
   "source": [
    "print(l)"
   ]
  },
  {
   "cell_type": "code",
   "execution_count": 70,
   "id": "bb370617",
   "metadata": {},
   "outputs": [],
   "source": [
    "# l.clear()"
   ]
  },
  {
   "cell_type": "code",
   "execution_count": 83,
   "id": "fab382ba",
   "metadata": {},
   "outputs": [
    {
     "name": "stdout",
     "output_type": "stream",
     "text": [
      "[]\n"
     ]
    }
   ],
   "source": [
    "print(l)"
   ]
  },
  {
   "cell_type": "code",
   "execution_count": 73,
   "id": "e006c13a",
   "metadata": {},
   "outputs": [
    {
     "name": "stdout",
     "output_type": "stream",
     "text": [
      "[]\n"
     ]
    }
   ],
   "source": [
    "print(li)"
   ]
  },
  {
   "cell_type": "code",
   "execution_count": 33,
   "id": "4a9f2ca2",
   "metadata": {},
   "outputs": [],
   "source": [
    "# This concept is alsi known as shallow copy\n",
    "a=['tushar', 'is', 'a', 'very', 'good', 'boy']\n",
    "b=a\n",
    "b.clear()\n"
   ]
  },
  {
   "cell_type": "code",
   "execution_count": 34,
   "id": "d75e3162",
   "metadata": {},
   "outputs": [
    {
     "name": "stdout",
     "output_type": "stream",
     "text": [
      "[]\n"
     ]
    }
   ],
   "source": [
    "print(b)"
   ]
  },
  {
   "cell_type": "code",
   "execution_count": 35,
   "id": "a4eb9255",
   "metadata": {},
   "outputs": [
    {
     "name": "stdout",
     "output_type": "stream",
     "text": [
      "[]\n"
     ]
    }
   ],
   "source": [
    "print(a)"
   ]
  },
  {
   "cell_type": "code",
   "execution_count": 38,
   "id": "b1d40b8a",
   "metadata": {},
   "outputs": [],
   "source": [
    "# This concept is also known as deep copy\n",
    "a=['tushar', 'is', 'a', 'very', 'good', 'boy']\n",
    "b=a.copy()\n",
    "b.clear()"
   ]
  },
  {
   "cell_type": "code",
   "execution_count": 39,
   "id": "a680882e",
   "metadata": {},
   "outputs": [
    {
     "name": "stdout",
     "output_type": "stream",
     "text": [
      "[]\n"
     ]
    }
   ],
   "source": [
    "print(b)"
   ]
  },
  {
   "cell_type": "code",
   "execution_count": 40,
   "id": "27af7ce0",
   "metadata": {},
   "outputs": [
    {
     "name": "stdout",
     "output_type": "stream",
     "text": [
      "['tushar', 'is', 'a', 'very', 'good', 'boy']\n"
     ]
    }
   ],
   "source": [
    "print(a)"
   ]
  },
  {
   "cell_type": "code",
   "execution_count": 63,
   "id": "6828d72c",
   "metadata": {},
   "outputs": [],
   "source": [
    "li.reverse()"
   ]
  },
  {
   "cell_type": "code",
   "execution_count": 64,
   "id": "300fd2ff",
   "metadata": {},
   "outputs": [
    {
     "name": "stdout",
     "output_type": "stream",
     "text": [
      "['the', 'dog', 'lazy', 'the', 'over', 'jumps', 'fox', 'brown', 'quick', 'a']\n"
     ]
    }
   ],
   "source": [
    "print(li)"
   ]
  },
  {
   "cell_type": "code",
   "execution_count": 97,
   "id": "437cae04",
   "metadata": {},
   "outputs": [
    {
     "name": "stdout",
     "output_type": "stream",
     "text": [
      "['Tomer', 'Tushar']\n"
     ]
    }
   ],
   "source": [
    "a=['Tushar','Tomer']\n",
    "a.reverse()\n",
    "print(a)"
   ]
  },
  {
   "cell_type": "code",
   "execution_count": 98,
   "id": "d32d53cd",
   "metadata": {},
   "outputs": [
    {
     "data": {
      "text/plain": [
       "[5, 4, 2, 1]"
      ]
     },
     "execution_count": 98,
     "metadata": {},
     "output_type": "execute_result"
    }
   ],
   "source": [
    "a=[1,2,4,5]\n",
    "a.reverse()\n",
    "a"
   ]
  },
  {
   "cell_type": "code",
   "execution_count": 2,
   "id": "00314e1c",
   "metadata": {},
   "outputs": [
    {
     "data": {
      "text/plain": [
       "['fgdf', 'dfgt', 'dfgf', 'abde']"
      ]
     },
     "execution_count": 2,
     "metadata": {},
     "output_type": "execute_result"
    }
   ],
   "source": [
    "a=[\"abde\",\"dfgf\",\"dfgt\",\"fgdf\"]\n",
    "a.reverse()\n",
    "a"
   ]
  },
  {
   "cell_type": "code",
   "execution_count": 99,
   "id": "0e0166dc",
   "metadata": {},
   "outputs": [
    {
     "name": "stdout",
     "output_type": "stream",
     "text": [
      "[5, 4, 2, 1]\n"
     ]
    }
   ],
   "source": [
    "a=[1,2,4,5]\n",
    "print(a[::-1])"
   ]
  },
  {
   "cell_type": "code",
   "execution_count": 41,
   "id": "c5e748d8",
   "metadata": {},
   "outputs": [
    {
     "name": "stdout",
     "output_type": "stream",
     "text": [
      "['boy', 'good', 'very', 'a', 'is', 'tushar']\n"
     ]
    }
   ],
   "source": [
    "# We can use reverse shortcut key only in list \n",
    "a=['tushar', 'is', 'a', 'very', 'good', 'boy']\n",
    "a.reverse()\n",
    "print(a)"
   ]
  },
  {
   "cell_type": "code",
   "execution_count": 44,
   "id": "a5909347",
   "metadata": {},
   "outputs": [
    {
     "name": "stdout",
     "output_type": "stream",
     "text": [
      "['4', '3', '2', '1']\n"
     ]
    }
   ],
   "source": [
    "a=['1','2','3','4']\n",
    "a.reverse()\n",
    "print(a)"
   ]
  },
  {
   "cell_type": "code",
   "execution_count": 109,
   "id": "0fc45cac",
   "metadata": {},
   "outputs": [
    {
     "name": "stdout",
     "output_type": "stream",
     "text": [
      "['a', 'in', 'jumps', 'lazy', 'over', 'quick', 'the', 'the']\n",
      "['the', 'the', 'quick', 'over', 'lazy', 'jumps', 'in', 'a']\n"
     ]
    }
   ],
   "source": [
    "a=['a', 'quick', 'jumps', 'over', 'the', 'lazy', 'in', 'the']\n",
    "b=sorted(a)\n",
    "c=sorted(a,reverse=True)\n",
    "print(b)\n",
    "print(c)"
   ]
  },
  {
   "cell_type": "code",
   "execution_count": 100,
   "id": "db72a977",
   "metadata": {},
   "outputs": [],
   "source": [
    "L=[3,1,5,6]\n",
    "L.sort()"
   ]
  },
  {
   "cell_type": "code",
   "execution_count": 101,
   "id": "1476190a",
   "metadata": {},
   "outputs": [
    {
     "data": {
      "text/plain": [
       "[1, 3, 5, 6]"
      ]
     },
     "execution_count": 101,
     "metadata": {},
     "output_type": "execute_result"
    }
   ],
   "source": [
    "L"
   ]
  },
  {
   "cell_type": "code",
   "execution_count": null,
   "id": "3ecf5377",
   "metadata": {},
   "outputs": [],
   "source": [
    "# Accending Order"
   ]
  },
  {
   "cell_type": "code",
   "execution_count": 103,
   "id": "f408c325",
   "metadata": {},
   "outputs": [
    {
     "data": {
      "text/plain": [
       "[1, 2, 4, 5]"
      ]
     },
     "execution_count": 103,
     "metadata": {},
     "output_type": "execute_result"
    }
   ],
   "source": [
    "a=[2,1,5,4]\n",
    "a.sort()\n",
    "a"
   ]
  },
  {
   "cell_type": "code",
   "execution_count": null,
   "id": "c340f104",
   "metadata": {},
   "outputs": [],
   "source": [
    "# Descending Order"
   ]
  },
  {
   "cell_type": "code",
   "execution_count": 104,
   "id": "e25e22df",
   "metadata": {},
   "outputs": [
    {
     "data": {
      "text/plain": [
       "[5, 4, 2, 1]"
      ]
     },
     "execution_count": 104,
     "metadata": {},
     "output_type": "execute_result"
    }
   ],
   "source": [
    "a=[2,4,1,5]\n",
    "a.sort(reverse=True)\n",
    "a"
   ]
  },
  {
   "cell_type": "code",
   "execution_count": 80,
   "id": "33cbc07b",
   "metadata": {},
   "outputs": [
    {
     "ename": "NameError",
     "evalue": "name 'l2' is not defined",
     "output_type": "error",
     "traceback": [
      "\u001b[1;31m---------------------------------------------------------------------------\u001b[0m",
      "\u001b[1;31mNameError\u001b[0m                                 Traceback (most recent call last)",
      "Input \u001b[1;32mIn [80]\u001b[0m, in \u001b[0;36m<cell line: 1>\u001b[1;34m()\u001b[0m\n\u001b[1;32m----> 1\u001b[0m \u001b[43ml2\u001b[49m\n",
      "\u001b[1;31mNameError\u001b[0m: name 'l2' is not defined"
     ]
    }
   ],
   "source": [
    "l2"
   ]
  },
  {
   "cell_type": "code",
   "execution_count": 79,
   "id": "e8130e1c",
   "metadata": {},
   "outputs": [
    {
     "ename": "NameError",
     "evalue": "name 'l2' is not defined",
     "output_type": "error",
     "traceback": [
      "\u001b[1;31m---------------------------------------------------------------------------\u001b[0m",
      "\u001b[1;31mNameError\u001b[0m                                 Traceback (most recent call last)",
      "Input \u001b[1;32mIn [79]\u001b[0m, in \u001b[0;36m<cell line: 1>\u001b[1;34m()\u001b[0m\n\u001b[1;32m----> 1\u001b[0m \u001b[43ml2\u001b[49m\u001b[38;5;241m.\u001b[39mreverse()\n",
      "\u001b[1;31mNameError\u001b[0m: name 'l2' is not defined"
     ]
    }
   ],
   "source": [
    "l2.reverse()"
   ]
  },
  {
   "cell_type": "code",
   "execution_count": 67,
   "id": "8a5181fe",
   "metadata": {},
   "outputs": [
    {
     "name": "stdout",
     "output_type": "stream",
     "text": [
      "[90, 70, 50, 30, 10]\n"
     ]
    }
   ],
   "source": [
    "print(l2)"
   ]
  },
  {
   "cell_type": "code",
   "execution_count": 92,
   "id": "fc20ef82",
   "metadata": {},
   "outputs": [
    {
     "data": {
      "text/plain": [
       "[]"
      ]
     },
     "execution_count": 92,
     "metadata": {},
     "output_type": "execute_result"
    }
   ],
   "source": [
    "# sort\n",
    "li.sort()\n",
    "li"
   ]
  },
  {
   "cell_type": "code",
   "execution_count": 69,
   "id": "855b844a",
   "metadata": {},
   "outputs": [
    {
     "name": "stdout",
     "output_type": "stream",
     "text": [
      "['a', 'brown', 'dog', 'fox', 'jumps', 'lazy', 'over', 'quick', 'the', 'the']\n"
     ]
    }
   ],
   "source": [
    "print(li)"
   ]
  },
  {
   "cell_type": "code",
   "execution_count": 70,
   "id": "2f3c9798",
   "metadata": {},
   "outputs": [],
   "source": [
    "li.sort(reverse=True)"
   ]
  },
  {
   "cell_type": "code",
   "execution_count": 71,
   "id": "81779542",
   "metadata": {},
   "outputs": [
    {
     "name": "stdout",
     "output_type": "stream",
     "text": [
      "['the', 'the', 'quick', 'over', 'lazy', 'jumps', 'fox', 'dog', 'brown', 'a']\n"
     ]
    }
   ],
   "source": [
    "print(li)"
   ]
  },
  {
   "cell_type": "code",
   "execution_count": 72,
   "id": "8e9576b2",
   "metadata": {},
   "outputs": [
    {
     "name": "stdout",
     "output_type": "stream",
     "text": [
      "['a', 'brown', 'dog', 'fox', 'jumps', 'lazy', 'over', 'quick', 'the', 'the']\n"
     ]
    }
   ],
   "source": [
    "# Sorted \n",
    "#it does not sort the original list\n",
    "print(sorted(li))"
   ]
  },
  {
   "cell_type": "code",
   "execution_count": 105,
   "id": "5f76459e",
   "metadata": {},
   "outputs": [
    {
     "name": "stdout",
     "output_type": "stream",
     "text": [
      "['deepanshu', 'karan', 'shubham', 'tushar']\n"
     ]
    }
   ],
   "source": [
    "a=['tushar','karan','deepanshu','shubham']\n",
    "print(sorted(a))"
   ]
  },
  {
   "cell_type": "code",
   "execution_count": 103,
   "id": "4865100d",
   "metadata": {},
   "outputs": [
    {
     "name": "stdout",
     "output_type": "stream",
     "text": [
      "[1, 3, 5, 5, 6, 7, 8]\n"
     ]
    }
   ],
   "source": [
    "a=[1,5,3,7,6,5,8]\n",
    "print(sorted(a))"
   ]
  },
  {
   "cell_type": "code",
   "execution_count": 73,
   "id": "848ebd87",
   "metadata": {},
   "outputs": [
    {
     "name": "stdout",
     "output_type": "stream",
     "text": [
      "['the', 'the', 'quick', 'over', 'lazy', 'jumps', 'fox', 'dog', 'brown', 'a']\n"
     ]
    }
   ],
   "source": [
    "print(li)"
   ]
  },
  {
   "cell_type": "code",
   "execution_count": 74,
   "id": "abd4d5d8",
   "metadata": {},
   "outputs": [
    {
     "name": "stdout",
     "output_type": "stream",
     "text": [
      "['the', 'the', 'quick', 'over', 'lazy', 'jumps', 'fox', 'dog', 'brown', 'a']\n"
     ]
    }
   ],
   "source": [
    "print(sorted(li,reverse=True))"
   ]
  },
  {
   "cell_type": "markdown",
   "id": "bacbb232",
   "metadata": {},
   "source": [
    "# Maximum & Minimum"
   ]
  },
  {
   "cell_type": "code",
   "execution_count": 109,
   "id": "545fb1e6",
   "metadata": {},
   "outputs": [
    {
     "name": "stdout",
     "output_type": "stream",
     "text": [
      "['a', 'quick', 'brown', 'fox', 'jumps', 'over', 'the', 'lazy', 'dog']\n"
     ]
    }
   ],
   "source": [
    "print(li)"
   ]
  },
  {
   "cell_type": "code",
   "execution_count": 110,
   "id": "b42ae781",
   "metadata": {},
   "outputs": [
    {
     "name": "stdout",
     "output_type": "stream",
     "text": [
      "a\n"
     ]
    }
   ],
   "source": [
    "# min\n",
    "print(min(li))"
   ]
  },
  {
   "cell_type": "code",
   "execution_count": 77,
   "id": "d4335d8d",
   "metadata": {},
   "outputs": [
    {
     "name": "stdout",
     "output_type": "stream",
     "text": [
      "the\n"
     ]
    }
   ],
   "source": [
    "#max\n",
    "print(max(li))"
   ]
  },
  {
   "cell_type": "code",
   "execution_count": 78,
   "id": "5eff60ca",
   "metadata": {},
   "outputs": [
    {
     "data": {
      "text/plain": [
       "[90, 70, 50, 30, 10]"
      ]
     },
     "execution_count": 78,
     "metadata": {},
     "output_type": "execute_result"
    }
   ],
   "source": [
    "l2"
   ]
  },
  {
   "cell_type": "code",
   "execution_count": 79,
   "id": "9edb3eb8",
   "metadata": {},
   "outputs": [
    {
     "name": "stdout",
     "output_type": "stream",
     "text": [
      "10\n"
     ]
    }
   ],
   "source": [
    "print(min(l2))"
   ]
  },
  {
   "cell_type": "code",
   "execution_count": 80,
   "id": "fe0968c6",
   "metadata": {},
   "outputs": [
    {
     "name": "stdout",
     "output_type": "stream",
     "text": [
      "90\n"
     ]
    }
   ],
   "source": [
    "print(max(l2))"
   ]
  },
  {
   "cell_type": "code",
   "execution_count": 81,
   "id": "10001332",
   "metadata": {},
   "outputs": [
    {
     "name": "stdout",
     "output_type": "stream",
     "text": [
      "[90, 70, 50, 30, 10]\n"
     ]
    }
   ],
   "source": [
    "print(l2)"
   ]
  },
  {
   "cell_type": "code",
   "execution_count": 117,
   "id": "aefd322f",
   "metadata": {},
   "outputs": [],
   "source": [
    "a=[90, 70, 50, 30, 10]"
   ]
  },
  {
   "cell_type": "markdown",
   "id": "06b443ea",
   "metadata": {},
   "source": [
    "## Sum"
   ]
  },
  {
   "cell_type": "code",
   "execution_count": 113,
   "id": "076299b0",
   "metadata": {},
   "outputs": [
    {
     "name": "stdout",
     "output_type": "stream",
     "text": [
      "12\n"
     ]
    }
   ],
   "source": [
    "a=[1,2,4,5,]\n",
    "print(sum(a))"
   ]
  },
  {
   "cell_type": "code",
   "execution_count": 116,
   "id": "7e879162",
   "metadata": {},
   "outputs": [
    {
     "name": "stdout",
     "output_type": "stream",
     "text": [
      "250\n"
     ]
    }
   ],
   "source": [
    "print(sum(a))"
   ]
  },
  {
   "cell_type": "code",
   "execution_count": 8,
   "id": "0df5f641",
   "metadata": {},
   "outputs": [
    {
     "name": "stdout",
     "output_type": "stream",
     "text": [
      "Deepanshuverma\n"
     ]
    }
   ],
   "source": [
    "x=['Deepanshu','verma']\n",
    "print(\"\".join(x))"
   ]
  },
  {
   "cell_type": "code",
   "execution_count": 14,
   "id": "79c5760c",
   "metadata": {},
   "outputs": [
    {
     "name": "stdout",
     "output_type": "stream",
     "text": [
      "[1, 2, 3, 4, 5, 6, 7, 8, 'Nine', 'Ten']\n"
     ]
    }
   ],
   "source": [
    "# list Modification\n",
    "l=[1,2,3,4,5,6,7,8,9,10]\n",
    "l[8:10]=['Nine','Ten']\n",
    "print(l)"
   ]
  },
  {
   "cell_type": "code",
   "execution_count": 15,
   "id": "dcf96a44",
   "metadata": {},
   "outputs": [
    {
     "name": "stdout",
     "output_type": "stream",
     "text": [
      "[1, 'Deepanshu', 8, 'Nine', 'Ten']\n"
     ]
    }
   ],
   "source": [
    "l[1:7]=['Deepanshu']\n",
    "print(l)"
   ]
  },
  {
   "cell_type": "code",
   "execution_count": 92,
   "id": "eba450d2",
   "metadata": {},
   "outputs": [
    {
     "name": "stdout",
     "output_type": "stream",
     "text": [
      "[1, 'Deepanshu', 8, 'Nine', 'Ten', 'Deepanshu']\n"
     ]
    }
   ],
   "source": [
    "l[10:11]=['Deepanshu']\n",
    "print(l)"
   ]
  },
  {
   "cell_type": "markdown",
   "id": "c162b9af",
   "metadata": {},
   "source": [
    "# Nested list"
   ]
  },
  {
   "cell_type": "code",
   "execution_count": 119,
   "id": "8c3465c2",
   "metadata": {},
   "outputs": [
    {
     "name": "stdout",
     "output_type": "stream",
     "text": [
      "100\n"
     ]
    }
   ],
   "source": [
    "L1=[11,22,[10,20,30],100]\n",
    "# print(len(L1))\n",
    "# print(L1[0])\n",
    "# print(L1[2])\n",
    "# print(L1[2][1])\n",
    "# print(L1[3])"
   ]
  },
  {
   "cell_type": "code",
   "execution_count": 127,
   "id": "6be5a6ed",
   "metadata": {},
   "outputs": [
    {
     "name": "stdout",
     "output_type": "stream",
     "text": [
      "['over', 'the', 'lazy', 'dog']\n"
     ]
    }
   ],
   "source": [
    "L2=['a', 'quick', 'brown', ['fox', 'jumps'], 'over', 'the', 'lazy', 'dog']\n",
    "# print(len(L2))\n",
    "# print(L2[0])\n",
    "# print(L2[3:4])\n",
    "# print(L2[3:4][0])\n",
    "# print(L2[3:4][0][1])\n",
    "# print(L2[3:4][0][1][2])\n",
    "# print(L2[4:])"
   ]
  },
  {
   "cell_type": "code",
   "execution_count": 9,
   "id": "896a2470",
   "metadata": {},
   "outputs": [
    {
     "data": {
      "text/plain": [
       "'fox'"
      ]
     },
     "execution_count": 9,
     "metadata": {},
     "output_type": "execute_result"
    }
   ],
   "source": [
    "k=['fox', 'jumps']\n",
    "k[0]"
   ]
  },
  {
   "cell_type": "code",
   "execution_count": 23,
   "id": "9de08d36",
   "metadata": {},
   "outputs": [
    {
     "data": {
      "text/plain": [
       "['a', 'quick', 'brown', ['fox', 'jumps'], 'over', 'the', 'lazy', 'dog']"
      ]
     },
     "execution_count": 23,
     "metadata": {},
     "output_type": "execute_result"
    }
   ],
   "source": [
    "L2"
   ]
  },
  {
   "cell_type": "code",
   "execution_count": 135,
   "id": "18c58f05",
   "metadata": {},
   "outputs": [
    {
     "name": "stdout",
     "output_type": "stream",
     "text": [
      "True\n"
     ]
    },
    {
     "data": {
      "text/plain": [
       "'jumps'"
      ]
     },
     "execution_count": 135,
     "metadata": {},
     "output_type": "execute_result"
    }
   ],
   "source": [
    "# Membership Operators\n",
    "# print('b' in L2)\n",
    "# print('j' in L2)\n",
    "# print('jumps' in L2)\n",
    "# print('quick' in L2)\n",
    "# print('fox' in L2[3:4][0][0])\n",
    "# print('jumps' in L2[3][1])"
   ]
  },
  {
   "cell_type": "code",
   "execution_count": 111,
   "id": "b6e415a6",
   "metadata": {},
   "outputs": [
    {
     "data": {
      "text/plain": [
       "['a', 'quick', 'brown', ['fox', 'jumps'], 'over', 'the', 'lazy', 'dog']"
      ]
     },
     "execution_count": 111,
     "metadata": {},
     "output_type": "execute_result"
    }
   ],
   "source": [
    "L2"
   ]
  },
  {
   "cell_type": "code",
   "execution_count": 137,
   "id": "49fcf5b6",
   "metadata": {},
   "outputs": [
    {
     "ename": "TypeError",
     "evalue": "can only concatenate list (not \"int\") to list",
     "output_type": "error",
     "traceback": [
      "\u001b[1;31m---------------------------------------------------------------------------\u001b[0m",
      "\u001b[1;31mTypeError\u001b[0m                                 Traceback (most recent call last)",
      "Input \u001b[1;32mIn [137]\u001b[0m, in \u001b[0;36m<cell line: 2>\u001b[1;34m()\u001b[0m\n\u001b[0;32m      1\u001b[0m K\u001b[38;5;241m=\u001b[39m[\u001b[38;5;241m1\u001b[39m,\u001b[38;5;241m2\u001b[39m,\u001b[38;5;241m3\u001b[39m,\u001b[38;5;241m4\u001b[39m,\u001b[38;5;241m4\u001b[39m,\u001b[38;5;241m5\u001b[39m]\n\u001b[1;32m----> 2\u001b[0m \u001b[38;5;28mprint\u001b[39m(\u001b[43mK\u001b[49m\u001b[38;5;241;43m+\u001b[39;49m\u001b[43m(\u001b[49m\u001b[38;5;241;43m10\u001b[39;49m\u001b[43m)\u001b[49m)\n",
      "\u001b[1;31mTypeError\u001b[0m: can only concatenate list (not \"int\") to list"
     ]
    }
   ],
   "source": [
    "K=[1,2,3,4,4,5]\n",
    "print(K+(10)) # Only concatenate List not no."
   ]
  },
  {
   "cell_type": "code",
   "execution_count": 138,
   "id": "ce03addf",
   "metadata": {},
   "outputs": [
    {
     "name": "stdout",
     "output_type": "stream",
     "text": [
      "[1, 2, 3, 4, 4, 5, 10]\n"
     ]
    }
   ],
   "source": [
    "K=[1,2,3,4,4,5]\n",
    "print(K+[10]) # It is concatenate because it is in list"
   ]
  },
  {
   "cell_type": "code",
   "execution_count": 59,
   "id": "53d66c07",
   "metadata": {},
   "outputs": [
    {
     "name": "stdout",
     "output_type": "stream",
     "text": [
      "[1, 2, 3, 4, 4, 5, 10]\n"
     ]
    }
   ],
   "source": [
    "a=[1,2,3,4,4,5]\n",
    "a.append(10)\n",
    "print(a)"
   ]
  },
  {
   "cell_type": "code",
   "execution_count": 61,
   "id": "1bd51382",
   "metadata": {},
   "outputs": [
    {
     "name": "stdout",
     "output_type": "stream",
     "text": [
      "19\n"
     ]
    }
   ],
   "source": [
    "b=[1,2,3,4,4,5]\n",
    "print(sum(b))"
   ]
  },
  {
   "cell_type": "code",
   "execution_count": 62,
   "id": "c2db1433",
   "metadata": {},
   "outputs": [
    {
     "name": "stdout",
     "output_type": "stream",
     "text": [
      "[1, 2, 3, 4, 4, 5, 6, 4]\n"
     ]
    }
   ],
   "source": [
    "a=[1,2,3,4,4,5]\n",
    "a.extend([6,4])\n",
    "print(a)"
   ]
  },
  {
   "cell_type": "code",
   "execution_count": 6,
   "id": "9d18a81f",
   "metadata": {},
   "outputs": [
    {
     "name": "stdout",
     "output_type": "stream",
     "text": [
      "[1, 2, 3, 4, 4, 6]\n"
     ]
    }
   ],
   "source": [
    "a=[1,2,3,4,4,5]\n",
    "a[5]=6\n",
    "print(a)"
   ]
  },
  {
   "cell_type": "code",
   "execution_count": 152,
   "id": "ee0dd646",
   "metadata": {},
   "outputs": [
    {
     "name": "stdout",
     "output_type": "stream",
     "text": [
      "['a', 'quick', 'brown', 'fox', 'jumps', 'over', 'the', 'lazy', 'dog', 'fox', 'jumps']\n"
     ]
    }
   ],
   "source": [
    "# # Concatenation\n",
    "L2=['a', 'quick', 'brown', ['fox', 'jumps'], 'over', 'the', 'lazy', 'dog']\n",
    "# print([L2[2]]+L2[3:4][0])\n",
    "# print([L2[3]]+L2[4:])\n",
    "# print([L2[3][0]]+L2[4:])\n",
    "# print(L2[0:3]+L2[3]+L2[4:])\n",
    "# print([[L2[3:4][0]]]+L2[4:])\n",
    "# print(L2[0:3]+L2[3:4][0]+L2[4:]+L2[3:4][0][0:2])"
   ]
  },
  {
   "cell_type": "code",
   "execution_count": 154,
   "id": "9d573426",
   "metadata": {},
   "outputs": [
    {
     "name": "stdout",
     "output_type": "stream",
     "text": [
      "[[1, 2, 3, [4, 5, 6], 7, 8, 9], 10, [11, 12, 13], 14, 15, 16, 17]\n"
     ]
    }
   ],
   "source": [
    "l1=[[1, 2, 3, [4, 5, 6], 7, 8, 9], 10, [11, 12, 13], 14, 15, 16, 17]\n",
    "print(l1)"
   ]
  },
  {
   "cell_type": "code",
   "execution_count": 161,
   "id": "ff5bc508",
   "metadata": {},
   "outputs": [
    {
     "name": "stdout",
     "output_type": "stream",
     "text": [
      "9\n"
     ]
    }
   ],
   "source": [
    "# print(l1[0])\n",
    "# print(l1[0:1])\n",
    "# print(len(l1))\n",
    "# print(l1[3])\n",
    "# print(l1[0])\n",
    "# print(l1[0][0])\n",
    "# print(l1[0][3])\n",
    "# print(l1[0][6])\n",
    "# print(l1[0][9])\n",
    "# print(l1[1])\n",
    "# print(l1[2][2])\n",
    "# print(l1[2])\n",
    "# print(l1[2][-1])\n",
    "# print(l1[0][1])\n",
    "# print(l1[0][3][0])\n",
    "# print(l1[6])\n",
    "# print(l1[0][5])\n",
    "# print(l1[0:2])\n",
    "# print(l1[0:3])\n"
   ]
  },
  {
   "cell_type": "code",
   "execution_count": 163,
   "id": "8b06df25",
   "metadata": {},
   "outputs": [
    {
     "name": "stdout",
     "output_type": "stream",
     "text": [
      "5\n",
      "5\n"
     ]
    }
   ],
   "source": [
    "l1=[[1, 2, 3, [4, 5, 6], 7, 8, 9], 10, [11, 12, 13], 14, 15, 16, 17]\n",
    "# print(l1[0:3][2][1])\n",
    "# print(l1[0][0:5])\n",
    "# print(l1[4])\n",
    "# print(l1[0][2:14])\n",
    "# print(l1[0:1000])\n",
    "# print(l1[0][-4])\n",
    "# print(l1[-4])\n",
    "# print(l1[-5][-2:])\n",
    "# print(l1[-7][-4:])\n",
    "# print(l1[-6:-7])\n",
    "# print(l1[0][0:100:3])\n",
    "# print(l1[0][::-1])\n",
    "# print(l1[0][3][1])\n",
    "# print(l1[0:1][0][3:4][0][1])"
   ]
  },
  {
   "cell_type": "code",
   "execution_count": 166,
   "id": "d712dbb4",
   "metadata": {},
   "outputs": [],
   "source": [
    "List=[['cats','vs','dogs'],['we know this']]\n"
   ]
  },
  {
   "cell_type": "code",
   "execution_count": 167,
   "id": "c6aafcfd",
   "metadata": {},
   "outputs": [
    {
     "name": "stdout",
     "output_type": "stream",
     "text": [
      "vs\n",
      "v\n"
     ]
    }
   ],
   "source": [
    "# print(len(List))\n",
    "# print(List[1])\n",
    "# print(List[0:10])\n",
    "print(List[0][1])\n",
    "# print(List[0][1:3])\n",
    "# print(List[0][0:3])\n",
    "print(List[0][1][0])\n",
    "\n"
   ]
  },
  {
   "cell_type": "markdown",
   "id": "987670cb",
   "metadata": {},
   "source": [
    "### List Comprehension\n",
    "List comprehensions are used for creating new lists from other iterables like tuples, strings, arrays, lists, etc. List comprehension offers a shorter syntax when you want to create a new list based on the values of an existing list.\n",
    "\n",
    "Syntax:\n",
    "\n",
    "newList = [ expression(element) for element in oldList if condition ]"
   ]
  },
  {
   "cell_type": "code",
   "execution_count": 6,
   "id": "527ac65e",
   "metadata": {},
   "outputs": [
    {
     "name": "stdout",
     "output_type": "stream",
     "text": [
      "[1, 9, 25, 49, 81]\n"
     ]
    }
   ],
   "source": [
    "odd_square=[]\n",
    "for x in range(1,11):\n",
    "    if x%2==1:\n",
    "        odd_square.append(x**2)\n",
    "print(odd_square)"
   ]
  },
  {
   "cell_type": "code",
   "execution_count": 2,
   "id": "18331aa7",
   "metadata": {},
   "outputs": [
    {
     "data": {
      "text/plain": [
       "[0, 2, 4, 6, 8, 10, 12, 14, 16, 18, 20]"
      ]
     },
     "execution_count": 2,
     "metadata": {},
     "output_type": "execute_result"
    }
   ],
   "source": [
    "a=[i for i in range(0,21) if i%2==0]\n",
    "a"
   ]
  },
  {
   "cell_type": "code",
   "execution_count": 3,
   "id": "fdc95428",
   "metadata": {},
   "outputs": [
    {
     "data": {
      "text/plain": [
       "[1, 3, 5, 7, 9, 11, 13, 15, 17, 19]"
      ]
     },
     "execution_count": 3,
     "metadata": {},
     "output_type": "execute_result"
    }
   ],
   "source": [
    "x=[i for i in range(1,20) if i%2!=0]\n",
    "x"
   ]
  },
  {
   "cell_type": "code",
   "execution_count": 8,
   "id": "9b374d8f",
   "metadata": {},
   "outputs": [
    {
     "name": "stdout",
     "output_type": "stream",
     "text": [
      "[0, 2, 4, 6, 8, 10, 12, 14, 16, 18, 20]\n"
     ]
    }
   ],
   "source": [
    "a=[]\n",
    "for i in range(0,21,2):\n",
    "    a.append(i)\n",
    "print(a)"
   ]
  },
  {
   "cell_type": "code",
   "execution_count": 168,
   "id": "219600d5",
   "metadata": {},
   "outputs": [
    {
     "data": {
      "text/plain": [
       "['Tushar', 'Tushar']"
      ]
     },
     "execution_count": 168,
     "metadata": {},
     "output_type": "execute_result"
    }
   ],
   "source": [
    "a=[\"Tushar\",\"is\",\"very\",\"good\",\"boy\",\"Tushar\"]\n",
    "b=[i for i in a if i[0]=='T']\n",
    "b"
   ]
  },
  {
   "cell_type": "code",
   "execution_count": 9,
   "id": "46c3eb2c",
   "metadata": {},
   "outputs": [
    {
     "data": {
      "text/plain": [
       "1"
      ]
     },
     "execution_count": 9,
     "metadata": {},
     "output_type": "execute_result"
    }
   ],
   "source": [
    "10%3"
   ]
  },
  {
   "cell_type": "code",
   "execution_count": 7,
   "id": "c2ce75fc",
   "metadata": {},
   "outputs": [
    {
     "name": "stdout",
     "output_type": "stream",
     "text": [
      "[1, 9, 25, 49, 81]\n"
     ]
    }
   ],
   "source": [
    "odd_square=[x**2 for x in range(1,11) if x%2==1]\n",
    "print(odd_square)"
   ]
  },
  {
   "cell_type": "code",
   "execution_count": 11,
   "id": "1fbbfc92",
   "metadata": {},
   "outputs": [
    {
     "name": "stdout",
     "output_type": "stream",
     "text": [
      "[0, 8, 64, 216, 512, 1000, 1728, 2744, 4096, 5832, 8000]\n"
     ]
    }
   ],
   "source": [
    "a=[i**3 for i in range(0,21) if i%2==0]\n",
    "print(a)"
   ]
  },
  {
   "cell_type": "code",
   "execution_count": 60,
   "id": "2fd69d6c",
   "metadata": {},
   "outputs": [
    {
     "name": "stdout",
     "output_type": "stream",
     "text": [
      "d\n",
      "e\n",
      "e\n",
      "p\n",
      "a\n",
      "n\n",
      "s\n",
      "h\n",
      "u\n"
     ]
    }
   ],
   "source": [
    "\n",
    "for i in 'deepanshu':\n",
    "    print(i)"
   ]
  },
  {
   "cell_type": "code",
   "execution_count": 14,
   "id": "215f1ad9",
   "metadata": {},
   "outputs": [
    {
     "name": "stdout",
     "output_type": "stream",
     "text": [
      "['T', 'u', 's', 'h', 'a', 'r', ' ', 'T', 'o', 'm', 'e', 'r']\n",
      "<class 'str'>\n",
      "['T', 'u', 's', 'h', 'a', 'r', ' ', 'T', 'o', 'm', 'e', 'r']\n",
      "Tushar Tomer\n"
     ]
    }
   ],
   "source": [
    "name=[i for i in 'Tushar Tomer']\n",
    "print(name)\n",
    "a=str(name)\n",
    "print(type(a))\n",
    "print(a)\n",
    "print(''.join(name))"
   ]
  },
  {
   "cell_type": "code",
   "execution_count": 63,
   "id": "7280ee2b",
   "metadata": {},
   "outputs": [
    {
     "name": "stdout",
     "output_type": "stream",
     "text": [
      "['D', 'e', 'e', 'p', 'a', 'n', 's', 'h', 'u']\n"
     ]
    }
   ],
   "source": [
    "name=[letter for letter in 'Deepanshu']\n",
    "print(name)\n"
   ]
  },
  {
   "cell_type": "code",
   "execution_count": 42,
   "id": "bf89eea7",
   "metadata": {},
   "outputs": [
    {
     "name": "stdout",
     "output_type": "stream",
     "text": [
      "['AA']\n"
     ]
    }
   ],
   "source": [
    "d=[x*2 for x in ('DEEPANSHU') if x=='A']\n",
    "print(d)"
   ]
  },
  {
   "cell_type": "code",
   "execution_count": 43,
   "id": "68355e63",
   "metadata": {},
   "outputs": [
    {
     "name": "stdout",
     "output_type": "stream",
     "text": [
      "['AA']\n"
     ]
    }
   ],
   "source": [
    "d=[x*2 for x in ('DEEPANSHU','A') if x=='A']\n",
    "print(d)"
   ]
  },
  {
   "cell_type": "code",
   "execution_count": 44,
   "id": "314ce201",
   "metadata": {},
   "outputs": [
    {
     "name": "stdout",
     "output_type": "stream",
     "text": [
      "[]\n"
     ]
    }
   ],
   "source": [
    "d=[x*2 for x in ('DEEPANSHU','ESTA') if x=='A']\n",
    "print(d)"
   ]
  },
  {
   "cell_type": "code",
   "execution_count": 15,
   "id": "357a7734",
   "metadata": {},
   "outputs": [
    {
     "name": "stdout",
     "output_type": "stream",
     "text": [
      "True\n"
     ]
    }
   ],
   "source": [
    "name=['deepanshu']\n",
    "for i in name:\n",
    "    print('a' in i)"
   ]
  },
  {
   "cell_type": "code",
   "execution_count": 66,
   "id": "ca176385",
   "metadata": {},
   "outputs": [
    {
     "data": {
      "text/plain": [
       "['apple', 'banana', 'mango']"
      ]
     },
     "execution_count": 66,
     "metadata": {},
     "output_type": "execute_result"
    }
   ],
   "source": [
    "fruits=['apple','banana','cherry','kiwi','mango']\n",
    "newlist=[x for x in fruits if \"a\" in x]\n",
    "newlist"
   ]
  },
  {
   "cell_type": "code",
   "execution_count": 24,
   "id": "73acc7b8",
   "metadata": {},
   "outputs": [
    {
     "data": {
      "text/plain": [
       "[0, 1, 2, 3, 4, 5, 6, 7, 8, 9]"
      ]
     },
     "execution_count": 24,
     "metadata": {},
     "output_type": "execute_result"
    }
   ],
   "source": [
    "newlist=[x for x in range(10)]\n",
    "newlist"
   ]
  },
  {
   "cell_type": "code",
   "execution_count": 17,
   "id": "b6596057",
   "metadata": {},
   "outputs": [
    {
     "data": {
      "text/plain": [
       "[6, 7, 8, 9]"
      ]
     },
     "execution_count": 17,
     "metadata": {},
     "output_type": "execute_result"
    }
   ],
   "source": [
    "newlist=[x for x in range(10) if x>5]\n",
    "newlist"
   ]
  },
  {
   "cell_type": "code",
   "execution_count": 16,
   "id": "7aeebbb5",
   "metadata": {},
   "outputs": [
    {
     "data": {
      "text/plain": [
       "['Even', 'odd', 'Even', 'odd', 'Even', 'odd', 'Even', 'odd', 'Even', 'odd']"
      ]
     },
     "execution_count": 16,
     "metadata": {},
     "output_type": "execute_result"
    }
   ],
   "source": [
    "obj=['Even' if i%2==0 else \"odd\" for i in range(10)]\n",
    "obj"
   ]
  },
  {
   "cell_type": "code",
   "execution_count": 19,
   "id": "d342161f",
   "metadata": {},
   "outputs": [
    {
     "data": {
      "text/plain": [
       "['Even',\n",
       " 'Odd',\n",
       " 'Even',\n",
       " 'Odd',\n",
       " 'Even',\n",
       " 'Odd',\n",
       " 'Even',\n",
       " 'Odd',\n",
       " 'Even',\n",
       " 'Odd',\n",
       " 'Even',\n",
       " 'Odd',\n",
       " 'Even',\n",
       " 'Odd']"
      ]
     },
     "execution_count": 19,
     "metadata": {},
     "output_type": "execute_result"
    }
   ],
   "source": [
    "a=['Even' if i%2==0 else 'Odd' for i in range(0,14)]\n",
    "a"
   ]
  },
  {
   "cell_type": "code",
   "execution_count": 169,
   "id": "a0a49961",
   "metadata": {},
   "outputs": [
    {
     "data": {
      "text/plain": [
       "['Hello',\n",
       " 'Hii',\n",
       " 'Hello',\n",
       " 'Hii',\n",
       " 'Hello',\n",
       " 'Hii',\n",
       " 'Hello',\n",
       " 'Hii',\n",
       " 'Hello',\n",
       " 'Hii',\n",
       " 'Hello',\n",
       " 'Hii',\n",
       " 'Hello',\n",
       " 'Hii',\n",
       " 'Hello',\n",
       " 'Hii',\n",
       " 'Hello',\n",
       " 'Hii',\n",
       " 'Hello',\n",
       " 'Hii']"
      ]
     },
     "execution_count": 169,
     "metadata": {},
     "output_type": "execute_result"
    }
   ],
   "source": [
    "a=[\"Hii\" if i%2==0 else \"Hello\" for i in range(1,21)]\n",
    "a"
   ]
  },
  {
   "cell_type": "code",
   "execution_count": 31,
   "id": "cc1655d3",
   "metadata": {},
   "outputs": [
    {
     "name": "stdout",
     "output_type": "stream",
     "text": [
      "[0, 1, 3, 2, 4, 6, 9]\n",
      "[0, 1, 2, 3, 4, 6, 9]\n"
     ]
    }
   ],
   "source": [
    "# find the least positive missing number\n",
    "a=[]\n",
    "d=0\n",
    "Li=[-6,0,1,3,-9,2,4,6,9]\n",
    "for i in Li:\n",
    "    if i>=0:\n",
    "        a.append(i)\n",
    "print(a)\n",
    "b=sorted(a)\n",
    "print(b)\n",
    "for j in range(0,d+1):\n",
    "    if j not in b:\n",
    "        print(j)\n",
    "        exit\n",
    "    else:\n",
    "        pass\n",
    "    d=d+1"
   ]
  },
  {
   "cell_type": "code",
   "execution_count": 49,
   "id": "0fc4d09b",
   "metadata": {},
   "outputs": [
    {
     "name": "stdout",
     "output_type": "stream",
     "text": [
      "[0, 1, 3, 2, 4, 6, 9]\n",
      "0\n"
     ]
    }
   ],
   "source": [
    "l=[i for i in Li if i>=0]\n",
    "print(l)\n",
    "print(min(l))"
   ]
  },
  {
   "cell_type": "code",
   "execution_count": 1,
   "id": "37a6f008",
   "metadata": {},
   "outputs": [],
   "source": [
    "# print the unique elemtns in a list\n",
    "l=[1,2,1,2,1,3,1,4,2,6,2,6,2,6,3,5,2,6,3,6,2,5,5]"
   ]
  },
  {
   "cell_type": "code",
   "execution_count": 4,
   "id": "a157562f",
   "metadata": {},
   "outputs": [
    {
     "name": "stdout",
     "output_type": "stream",
     "text": [
      "{1, 2, 3, 4, 5, 6}\n",
      "[1, 2, 3, 4, 5, 6]\n"
     ]
    }
   ],
   "source": [
    "a=set(l)\n",
    "d=list(a)\n",
    "print(a)\n",
    "print(d)"
   ]
  },
  {
   "cell_type": "code",
   "execution_count": 55,
   "id": "0f441ec5",
   "metadata": {},
   "outputs": [
    {
     "name": "stdout",
     "output_type": "stream",
     "text": [
      "[1, 2, 3, 4, 6, 5]\n"
     ]
    }
   ],
   "source": [
    "a=[]\n",
    "for i in l:\n",
    "    if i not in a:\n",
    "        a=a+[i]\n",
    "print(a)"
   ]
  },
  {
   "cell_type": "code",
   "execution_count": 56,
   "id": "f1e78a49",
   "metadata": {},
   "outputs": [
    {
     "name": "stdout",
     "output_type": "stream",
     "text": [
      "[1, 2, 3, 4, 6, 5]\n"
     ]
    }
   ],
   "source": [
    "a=[]\n",
    "for i in l:\n",
    "    if i not in a:\n",
    "        a.append(i)\n",
    "print(a)"
   ]
  },
  {
   "cell_type": "code",
   "execution_count": null,
   "id": "e87071e2",
   "metadata": {},
   "outputs": [],
   "source": [
    "#Write a Python program to find palindromes in a given list of strings\n",
    "# pallindrome\n",
    "# not palindrome\n",
    "l=['madam','1331','php','deepanshu']"
   ]
  },
  {
   "cell_type": "code",
   "execution_count": 35,
   "id": "413583fd",
   "metadata": {},
   "outputs": [
    {
     "ename": "NameError",
     "evalue": "name 'D' is not defined",
     "output_type": "error",
     "traceback": [
      "\u001b[1;31m---------------------------------------------------------------------------\u001b[0m",
      "\u001b[1;31mNameError\u001b[0m                                 Traceback (most recent call last)",
      "Input \u001b[1;32mIn [35]\u001b[0m, in \u001b[0;36m<cell line: 1>\u001b[1;34m()\u001b[0m\n\u001b[1;32m----> 1\u001b[0m \u001b[38;5;28mprint\u001b[39m(\u001b[43mD\u001b[49m)\n",
      "\u001b[1;31mNameError\u001b[0m: name 'D' is not defined"
     ]
    }
   ],
   "source": [
    "print(D)"
   ]
  },
  {
   "cell_type": "code",
   "execution_count": 49,
   "id": "64d871fe",
   "metadata": {},
   "outputs": [],
   "source": [
    "a=[1,2,3,4]"
   ]
  },
  {
   "cell_type": "code",
   "execution_count": 51,
   "id": "fd88b7ee",
   "metadata": {},
   "outputs": [],
   "source": [
    "del (a)"
   ]
  },
  {
   "cell_type": "code",
   "execution_count": 52,
   "id": "96979427",
   "metadata": {},
   "outputs": [
    {
     "ename": "NameError",
     "evalue": "name 'a' is not defined",
     "output_type": "error",
     "traceback": [
      "\u001b[1;31m---------------------------------------------------------------------------\u001b[0m",
      "\u001b[1;31mNameError\u001b[0m                                 Traceback (most recent call last)",
      "Input \u001b[1;32mIn [52]\u001b[0m, in \u001b[0;36m<cell line: 1>\u001b[1;34m()\u001b[0m\n\u001b[1;32m----> 1\u001b[0m \u001b[38;5;28mprint\u001b[39m(\u001b[43ma\u001b[49m)\n",
      "\u001b[1;31mNameError\u001b[0m: name 'a' is not defined"
     ]
    }
   ],
   "source": [
    "print(a)"
   ]
  },
  {
   "cell_type": "code",
   "execution_count": 55,
   "id": "6180fc36",
   "metadata": {},
   "outputs": [
    {
     "name": "stdout",
     "output_type": "stream",
     "text": [
      "{0: 'a', 1: 'quick', 3: 'fox'}\n"
     ]
    }
   ],
   "source": [
    "print(D)"
   ]
  },
  {
   "cell_type": "code",
   "execution_count": 58,
   "id": "a5096c78",
   "metadata": {},
   "outputs": [
    {
     "data": {
      "text/plain": [
       "'a'"
      ]
     },
     "execution_count": 58,
     "metadata": {},
     "output_type": "execute_result"
    }
   ],
   "source": [
    "D.pop(0)"
   ]
  },
  {
   "cell_type": "code",
   "execution_count": 53,
   "id": "f1e7e113",
   "metadata": {},
   "outputs": [
    {
     "name": "stdout",
     "output_type": "stream",
     "text": [
      "3\n"
     ]
    }
   ],
   "source": [
    "a=[1,2,3,4]\n",
    "print(a.pop(2))"
   ]
  },
  {
   "cell_type": "code",
   "execution_count": 54,
   "id": "85a94f7f",
   "metadata": {},
   "outputs": [
    {
     "name": "stdout",
     "output_type": "stream",
     "text": [
      "[1, 2, 4]\n"
     ]
    }
   ],
   "source": [
    "print(a)"
   ]
  },
  {
   "cell_type": "code",
   "execution_count": 62,
   "id": "53f750bd",
   "metadata": {},
   "outputs": [
    {
     "name": "stdout",
     "output_type": "stream",
     "text": [
      "3\n"
     ]
    }
   ],
   "source": [
    "a=[1,2,3,4]\n",
    "print(a.pop(2))"
   ]
  },
  {
   "cell_type": "code",
   "execution_count": 64,
   "id": "682c43cc",
   "metadata": {},
   "outputs": [
    {
     "name": "stdout",
     "output_type": "stream",
     "text": [
      "[1, 2, 4]\n"
     ]
    }
   ],
   "source": [
    "print(a)"
   ]
  },
  {
   "cell_type": "code",
   "execution_count": 59,
   "id": "4d5a1c68",
   "metadata": {},
   "outputs": [
    {
     "name": "stdout",
     "output_type": "stream",
     "text": [
      "{1: 'quick', 3: 'fox'}\n"
     ]
    }
   ],
   "source": [
    "print(D)"
   ]
  },
  {
   "cell_type": "code",
   "execution_count": 61,
   "id": "3fb06c58",
   "metadata": {},
   "outputs": [
    {
     "data": {
      "text/plain": [
       "(3, 'fox')"
      ]
     },
     "execution_count": 61,
     "metadata": {},
     "output_type": "execute_result"
    }
   ],
   "source": [
    "D.popitem()"
   ]
  },
  {
   "cell_type": "code",
   "execution_count": 62,
   "id": "6fe2a9b5",
   "metadata": {},
   "outputs": [
    {
     "name": "stdout",
     "output_type": "stream",
     "text": [
      "{1: 'quick'}\n"
     ]
    }
   ],
   "source": [
    "print(D)"
   ]
  },
  {
   "cell_type": "code",
   "execution_count": 63,
   "id": "de2b0834",
   "metadata": {},
   "outputs": [
    {
     "name": "stdout",
     "output_type": "stream",
     "text": [
      "{0: 'a', 1: 'quick', 3: 'fox'}\n"
     ]
    }
   ],
   "source": [
    "D={0: 'a', 1: 'quick', 3: 'fox'}\n",
    "print(D)"
   ]
  },
  {
   "cell_type": "code",
   "execution_count": 64,
   "id": "8f1c340c",
   "metadata": {},
   "outputs": [],
   "source": [
    "D.update({9:'cat'})"
   ]
  },
  {
   "cell_type": "code",
   "execution_count": 65,
   "id": "b8d047d7",
   "metadata": {},
   "outputs": [
    {
     "name": "stdout",
     "output_type": "stream",
     "text": [
      "{0: 'a', 1: 'quick', 3: 'fox', 9: 'cat'}\n"
     ]
    }
   ],
   "source": [
    "print(D)"
   ]
  },
  {
   "cell_type": "code",
   "execution_count": 66,
   "id": "4d39d45d",
   "metadata": {},
   "outputs": [],
   "source": [
    "D.update({1:'jaldi'})"
   ]
  },
  {
   "cell_type": "code",
   "execution_count": 67,
   "id": "9ccd4bd2",
   "metadata": {},
   "outputs": [
    {
     "name": "stdout",
     "output_type": "stream",
     "text": [
      "{0: 'a', 1: 'jaldi', 3: 'fox', 9: 'cat'}\n"
     ]
    }
   ],
   "source": [
    "print(D)"
   ]
  },
  {
   "cell_type": "code",
   "execution_count": 68,
   "id": "bc96b079",
   "metadata": {},
   "outputs": [],
   "source": [
    "D.update({-1:'jaldi'})"
   ]
  },
  {
   "cell_type": "code",
   "execution_count": 69,
   "id": "89df4289",
   "metadata": {},
   "outputs": [
    {
     "name": "stdout",
     "output_type": "stream",
     "text": [
      "{0: 'a', 1: 'jaldi', 3: 'fox', 9: 'cat', -1: 'jaldi'}\n"
     ]
    }
   ],
   "source": [
    "print(D)"
   ]
  },
  {
   "cell_type": "code",
   "execution_count": 70,
   "id": "63be2a8d",
   "metadata": {},
   "outputs": [],
   "source": [
    "D[10000]='DeepANSHU'"
   ]
  },
  {
   "cell_type": "code",
   "execution_count": 71,
   "id": "995f03d4",
   "metadata": {},
   "outputs": [
    {
     "name": "stdout",
     "output_type": "stream",
     "text": [
      "{0: 'a', 1: 'jaldi', 3: 'fox', 9: 'cat', -1: 'jaldi', 10000: 'DeepANSHU'}\n"
     ]
    }
   ],
   "source": [
    "print(D)"
   ]
  },
  {
   "cell_type": "code",
   "execution_count": 76,
   "id": "d64219aa",
   "metadata": {},
   "outputs": [],
   "source": [
    "d={'a':1,2:' '}"
   ]
  },
  {
   "cell_type": "code",
   "execution_count": 77,
   "id": "d457b0d2",
   "metadata": {},
   "outputs": [
    {
     "data": {
      "text/plain": [
       "{'a': 1, 2: ' '}"
      ]
     },
     "execution_count": 77,
     "metadata": {},
     "output_type": "execute_result"
    }
   ],
   "source": [
    "d"
   ]
  },
  {
   "cell_type": "code",
   "execution_count": 78,
   "id": "45c7b669",
   "metadata": {},
   "outputs": [
    {
     "data": {
      "text/plain": [
       "' '"
      ]
     },
     "execution_count": 78,
     "metadata": {},
     "output_type": "execute_result"
    }
   ],
   "source": [
    "d[2]"
   ]
  },
  {
   "cell_type": "code",
   "execution_count": 79,
   "id": "bcab43e2",
   "metadata": {},
   "outputs": [],
   "source": [
    "D={0: 'a', 1: 'jaldi', 3: 'fox', 9: 'cat', -1: 'jaldi'}"
   ]
  },
  {
   "cell_type": "code",
   "execution_count": 83,
   "id": "991df14c",
   "metadata": {},
   "outputs": [
    {
     "name": "stdout",
     "output_type": "stream",
     "text": [
      "(0, 'a')\n",
      "(1, 'jaldi')\n",
      "(3, 'fox')\n",
      "(9, 'cat')\n",
      "(-1, 'jaldi')\n"
     ]
    }
   ],
   "source": [
    "for i in D:\n",
    "    print(i)"
   ]
  },
  {
   "cell_type": "code",
   "execution_count": 69,
   "id": "a5903539",
   "metadata": {},
   "outputs": [
    {
     "name": "stdout",
     "output_type": "stream",
     "text": [
      "{1: 'a', 2: 'b', 3: 'c'}\n"
     ]
    }
   ],
   "source": [
    "a=[1,2,3]\n",
    "b=['a','b','c',5]\n",
    "\n",
    "x={i:j for i,j in zip(a,b)}\n",
    "print(x)"
   ]
  },
  {
   "cell_type": "code",
   "execution_count": 97,
   "id": "adaa543e",
   "metadata": {},
   "outputs": [
    {
     "name": "stdout",
     "output_type": "stream",
     "text": [
      "['a', 'b']\n"
     ]
    }
   ],
   "source": [
    "b=['a','b','c',5]\n",
    "a=[1,2,3]\n",
    "L=[]\n",
    "D={}\n",
    "i=0\n",
    "while b[i]!='c':\n",
    "   \n",
    "    L.append(b[i])\n",
    "    i+=1\n",
    "#     print()\n",
    "print(L)\n",
    "# for i in a:\n",
    "#     print(i)\n",
    "for i in a:\n",
    "    D[i]=L\n",
    "    \n",
    "    "
   ]
  },
  {
   "cell_type": "code",
   "execution_count": 98,
   "id": "3dd2bbe1",
   "metadata": {},
   "outputs": [
    {
     "name": "stdout",
     "output_type": "stream",
     "text": [
      "{1: ['a', 'b'], 2: ['a', 'b'], 3: ['a', 'b']}\n"
     ]
    }
   ],
   "source": [
    "print(D)"
   ]
  },
  {
   "cell_type": "code",
   "execution_count": 3,
   "id": "8966bd1e",
   "metadata": {},
   "outputs": [
    {
     "ename": "TypeError",
     "evalue": "'tuple' object does not support item assignment",
     "output_type": "error",
     "traceback": [
      "\u001b[1;31m---------------------------------------------------------------------------\u001b[0m",
      "\u001b[1;31mTypeError\u001b[0m                                 Traceback (most recent call last)",
      "\u001b[1;32m<ipython-input-3-1182f106097d>\u001b[0m in \u001b[0;36m<module>\u001b[1;34m\u001b[0m\n\u001b[0;32m      1\u001b[0m \u001b[0mt\u001b[0m\u001b[1;33m=\u001b[0m\u001b[1;33m(\u001b[0m\u001b[1;34m'a'\u001b[0m\u001b[1;33m,\u001b[0m\u001b[1;34m'quick'\u001b[0m\u001b[1;33m)\u001b[0m\u001b[1;33m\u001b[0m\u001b[1;33m\u001b[0m\u001b[0m\n\u001b[1;32m----> 2\u001b[1;33m \u001b[0mt\u001b[0m\u001b[1;33m[\u001b[0m\u001b[1;36m1\u001b[0m\u001b[1;33m]\u001b[0m\u001b[1;33m=\u001b[0m\u001b[1;34m'jaldi'\u001b[0m\u001b[1;33m\u001b[0m\u001b[1;33m\u001b[0m\u001b[0m\n\u001b[0m",
      "\u001b[1;31mTypeError\u001b[0m: 'tuple' object does not support item assignment"
     ]
    }
   ],
   "source": [
    "t=('a','quick')\n",
    "t[1]='jaldi'"
   ]
  },
  {
   "cell_type": "code",
   "execution_count": 4,
   "id": "66a49c65",
   "metadata": {},
   "outputs": [
    {
     "name": "stdout",
     "output_type": "stream",
     "text": [
      "a\n",
      "quick\n"
     ]
    }
   ],
   "source": [
    "t=('a','quick')\n",
    "x,y=t\n",
    "print(x)\n",
    "print(y)"
   ]
  },
  {
   "cell_type": "code",
   "execution_count": 5,
   "id": "4ce53a29",
   "metadata": {},
   "outputs": [],
   "source": [
    "x='jalid'\n",
    "y='jaldi'"
   ]
  },
  {
   "cell_type": "code",
   "execution_count": 6,
   "id": "9b0bbc82",
   "metadata": {},
   "outputs": [
    {
     "name": "stdout",
     "output_type": "stream",
     "text": [
      "('jalid', 'jaldi')\n"
     ]
    }
   ],
   "source": [
    "tup=(x,y)\n",
    "print(tup)"
   ]
  },
  {
   "cell_type": "code",
   "execution_count": 2,
   "id": "33db907a",
   "metadata": {},
   "outputs": [
    {
     "name": "stdout",
     "output_type": "stream",
     "text": [
      "['T', 'u', 's', 'h', 'a', 'r']\n",
      "Tushar\n"
     ]
    }
   ],
   "source": [
    "name=[i for i in 'Tushar']\n",
    "print(name)\n",
    "a=''.join(name)\n",
    "print(a)"
   ]
  },
  {
   "cell_type": "code",
   "execution_count": 6,
   "id": "75b644e3",
   "metadata": {},
   "outputs": [
    {
     "name": "stdout",
     "output_type": "stream",
     "text": [
      "<class 'tuple'>\n",
      "('Tushsr', 'khanna')\n"
     ]
    }
   ],
   "source": [
    "a=('Tushsr','Tomer')\n",
    "print(type(a))\n",
    "b,d=a\n",
    "d='khanna'\n",
    "a=(b,d)\n",
    "print(a)"
   ]
  }
 ],
 "metadata": {
  "kernelspec": {
   "display_name": "Python 3 (ipykernel)",
   "language": "python",
   "name": "python3"
  },
  "language_info": {
   "codemirror_mode": {
    "name": "ipython",
    "version": 3
   },
   "file_extension": ".py",
   "mimetype": "text/x-python",
   "name": "python",
   "nbconvert_exporter": "python",
   "pygments_lexer": "ipython3",
   "version": "3.9.12"
  }
 },
 "nbformat": 4,
 "nbformat_minor": 5
}
